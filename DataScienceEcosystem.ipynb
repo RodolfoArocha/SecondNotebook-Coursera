{
 "cells": [
  {
   "cell_type": "markdown",
   "id": "4a98db41-0486-480e-b687-e200f0cf4212",
   "metadata": {},
   "source": [
    "#Data Science Tools and Ecosystem"
   ]
  },
  {
   "cell_type": "markdown",
   "id": "4d26721c-42ba-4461-8ec3-0f7cc90dd521",
   "metadata": {},
   "source": [
    "<blockquote>In this notebook, Data Science Tools and Ecosystem are summarized.</blockquote>\n",
    "\n",
    "__Objectives__\n",
    "<ul>\n",
    "<li>Popular languages for Data Science</li>\n",
    "<li>Commonly used libraries</li>\n",
    "<li>Arithmetic expressions</li>\n",
    "</ul>"
   ]
  },
  {
   "cell_type": "markdown",
   "id": "58e3fab6-dbfa-47e0-96eb-fbee50f95fcc",
   "metadata": {},
   "source": [
    "###Some of the popular languages that Data Scientists use are:\n",
    "<li>1. Python</li>\n",
    "<li>2. R</li>\n",
    "<li>3. SQL</li>"
   ]
  },
  {
   "cell_type": "markdown",
   "id": "f90ee9ad-9687-45a8-93b8-6df1be9ffcc8",
   "metadata": {},
   "source": [
    "###Some of the commonly used libraries used by Data Scientists include:\n",
    "<li>1. Pandas</li>\n",
    "<li>2. SciPy</li>\n",
    "<li>3. PyTorch</li>\n",
    "<li>4. Seaborn</li>"
   ]
  },
  {
   "cell_type": "markdown",
   "id": "cd107214-a527-48c6-b6c6-e2fe4e188a2b",
   "metadata": {},
   "source": [
    "<table style=\"width:20%\">\n",
    "\n",
    "<tr>\n",
    "<th>Data Science Tools</th>\n",
    "</tr>\n",
    "\n",
    "<tr>\n",
    "<td>Julia</td>\n",
    "</tr>\n",
    "\n",
    "<tr>\n",
    "<td>Apache Spark</td>\n",
    "</tr>\n",
    "\n",
    "<tr>\n",
    "<td>Matlab</td>\n",
    "</tr>\n",
    "\n",
    "<tr>\n",
    "<td>Numpy</td>\n",
    "</tr>\n",
    "\n",
    "<tr>\n",
    "<td>Keras</td>\n",
    "</tr>\n",
    "\n",
    "<tr>\n",
    "<td>Pandas</td>\n",
    "</tr>\n",
    "\n",
    "</table>"
   ]
  },
  {
   "cell_type": "markdown",
   "id": "d56c4536-9215-441e-bccf-73745cbbbfc3",
   "metadata": {},
   "source": [
    "###Below are a few examples of evaluating arithmetic expressions in Python"
   ]
  },
  {
   "cell_type": "markdown",
   "id": "146723b4-8b6a-44d7-973d-c11266f03a63",
   "metadata": {},
   "source": [
    "<blockquote>This a simple arithmetic expression to mutiply then add integers</blockquote>"
   ]
  },
  {
   "cell_type": "code",
   "execution_count": 3,
   "id": "3f4ffe1e-e054-41ad-a9a9-6f4203f63a70",
   "metadata": {
    "tags": []
   },
   "outputs": [
    {
     "data": {
      "text/plain": [
       "17"
      ]
     },
     "execution_count": 3,
     "metadata": {},
     "output_type": "execute_result"
    }
   ],
   "source": [
    "(3*4)+5"
   ]
  },
  {
   "cell_type": "code",
   "execution_count": 4,
   "id": "a2060867-0cda-4e93-b229-6b60ca309e6b",
   "metadata": {
    "tags": []
   },
   "outputs": [
    {
     "data": {
      "text/plain": [
       "3.3333333333333335"
      ]
     },
     "execution_count": 4,
     "metadata": {},
     "output_type": "execute_result"
    }
   ],
   "source": [
    "200/60"
   ]
  },
  {
   "cell_type": "markdown",
   "id": "4a78c255-be89-461a-838e-9e18392968a8",
   "metadata": {},
   "source": [
    "##Author:\n",
    "<blockquote>Rodolfo Andrés Arocha Cujia</blockquote>"
   ]
  },
  {
   "cell_type": "code",
   "execution_count": null,
   "id": "93c3330c-43b4-4aec-ab7e-05dfccebe44c",
   "metadata": {},
   "outputs": [],
   "source": []
  }
 ],
 "metadata": {
  "kernelspec": {
   "display_name": "Python",
   "language": "python",
   "name": "conda-env-python-py"
  },
  "language_info": {
   "codemirror_mode": {
    "name": "ipython",
    "version": 3
   },
   "file_extension": ".py",
   "mimetype": "text/x-python",
   "name": "python",
   "nbconvert_exporter": "python",
   "pygments_lexer": "ipython3",
   "version": "3.7.12"
  }
 },
 "nbformat": 4,
 "nbformat_minor": 5
}
